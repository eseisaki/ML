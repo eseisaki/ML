{
 "cells": [
  {
   "cell_type": "code",
   "execution_count": 73,
   "metadata": {
    "collapsed": true,
    "pycharm": {
     "is_executing": false,
     "name": "#%%\n"
    }
   },
   "outputs": [],
   "source": [
    "import warnings\n",
    "warnings.filterwarnings(\"ignore\")\n",
    "import numpy as np\n",
    "from sklearn.datasets import load_boston\n",
    "from sklearn.model_selection import train_test_split\n",
    "from sklearn import preprocessing\n",
    "from sklearn.linear_model import SGDRegressor\n",
    "from sklearn.metrics import mean_squared_error\n",
    "import pandas as pd\n",
    "import matplotlib.pyplot as plt"
   ]
  },
  {
   "cell_type": "markdown",
   "source": [
    "### Create custom SGD"
   ],
   "metadata": {
    "collapsed": false
   }
  },
  {
   "cell_type": "code",
   "execution_count": 74,
   "outputs": [],
   "source": [
    "def CustomSGD( train_data, target, learning_rate,iterations, batch, divideby):\n",
    "   \n",
    "    # initialize w and b parameters\n",
    "    w = np.zeros(shape=(1, train_data.shape[1]-1))\n",
    "    b = 0\n",
    "    \n",
    "    current = 1\n",
    "    \n",
    "    while current<=iterations:\n",
    "        \n",
    "        # we peak mini batch from training data\n",
    "        temp = train_data.sample(batch)\n",
    "        \n",
    "        # we separate x,y from training data\n",
    "        y = np.array(temp[target])\n",
    "        x = np.array(temp.drop(target, axis = 1))\n",
    "        \n",
    "        # we initialize gradients\n",
    "        w_gradient = np.zeros(shape=(1, train_data.shape[1]-1))\n",
    "        b_gradient = 0\n",
    "        \n",
    "        # calculate gradients for every point in mini batch\n",
    "        for i in range(batch):\n",
    "            prediction = np.dot(w,x[i]+b)\n",
    "            w_gradient =w_gradient + (-2)*x[i]*(y[i]-prediction)\n",
    "            b_gradient = b_gradient+(-2)*(y[i]-prediction)\n",
    "        \n",
    "        # update w and b with gradients\n",
    "        w = w-learning_rate*(w_gradient/batch)\n",
    "        b = b - learning_rate*(b_gradient/batch)\n",
    "        \n",
    "        # increment the iteration by one\n",
    "        current+=1\n",
    "        \n",
    "        #divide learning rate \n",
    "        learning_rate /= divideby\n",
    "        \n",
    "        return w,b\n",
    "        \n",
    "def predict(x,w,b):\n",
    "    y_pred = []\n",
    "    for i in range(len(x)):\n",
    "        y= np.asscalar(np.dot(w,x[i]+b))\n",
    "        y_pred.append(y)\n",
    "    return np.array(y_pred)\n",
    "        "
   ],
   "metadata": {
    "collapsed": false,
    "pycharm": {
     "name": "#%%\n",
     "is_executing": false
    }
   }
  },
  {
   "cell_type": "markdown",
   "source": [
    "### Data loading, splitting and standardizing:"
   ],
   "metadata": {
    "collapsed": false
   }
  },
  {
   "cell_type": "code",
   "execution_count": 75,
   "outputs": [],
   "source": [
    "# load training data where each column of the array is a feature\n",
    "boston_data = pd.DataFrame(load_boston().data,columns = load_boston()\\\n",
    "    .feature_names)\n",
    "\n",
    "# load Y, X array\n",
    "Y= load_boston().target\n",
    "X= load_boston().data\n",
    "\n",
    "# split dataset to train and test data\n",
    "x_train,x_test, y_train, y_test = train_test_split(X,Y, test_size= 0.3)\n",
    "\n",
    "# standardize data\n",
    "scaler = preprocessing.StandardScaler().fit(x_train)\n",
    "x_train = scaler.transform(x_train)\n",
    "x_test = scaler.transform(x_test)\n",
    "\n"
   ],
   "metadata": {
    "collapsed": false,
    "pycharm": {
     "name": "#%%\n",
     "is_executing": false
    }
   }
  },
  {
   "cell_type": "markdown",
   "source": [
    "### Linear Regression with sklearn SGDRegressor"
   ],
   "metadata": {
    "collapsed": false
   }
  },
  {
   "cell_type": "code",
   "execution_count": 76,
   "outputs": [
    {
     "data": {
      "text/plain": "<Figure size 432x288 with 1 Axes>",
      "image/png": "[encoded data removed]"
     },
     "metadata": {
      "needs_background": "light"
     },
     "output_type": "display_data"
    },
    {
     "name": "stdout",
     "text": [
      "Mean Squared Error : 23.383528201418915\n",
      "Mean Squared Error : 564.3762674226637\n"
     ],
     "output_type": "stream"
    },
    {
     "data": {
      "text/plain": "<Figure size 432x288 with 1 Axes>",
      "image/png": "[encoded data removed]"
     },
     "metadata": {
      "needs_background": "light"
     },
     "output_type": "display_data"
    }
   ],
   "source": [
    "iterations = 1000\n",
    "\n",
    "# run sgd with sklearn\n",
    "defaultSGD = SGDRegressor(max_iter = iterations)\n",
    "defaultSGD.fit(x_train, y_train)\n",
    "\n",
    "default_pred_y = defaultSGD.predict(x_test)\n",
    "\n",
    "# plot result\n",
    "plt.scatter(y_test,default_pred_y)\n",
    "plt.grid()\n",
    "plt.xlabel('Actual y')\n",
    "plt.ylabel('Predicted y')\n",
    "plt.show()\n",
    "\n",
    "print('Mean Squared Error :',mean_squared_error(y_test, default_pred_y))\n",
    "\n",
    "\n",
    "\n",
    "# adding the target target column in the data\n",
    "train_data = pd.DataFrame(x_train)\n",
    "train_data['price'] = y_train\n",
    "train_data.head(3)\n",
    "\n",
    "x_test=np.array(x_test)\n",
    "y_test=np.array(y_test)\n",
    "\n",
    "# run sgd with custom SGD\n",
    "w,b = CustomSGD(train_data = train_data,target= 'price', learning_rate=0.001,\n",
    "                                                  iterations=iterations, \n",
    "                divideby=1,\n",
    "                batch=10)\n",
    "custom_pred_y =predict(x_test,w,b)\n",
    "\n",
    "# plot result\n",
    "plt.scatter(y_test,custom_pred_y)\n",
    "plt.grid()\n",
    "plt.xlabel('Actual y')\n",
    "plt.ylabel('Predicted y')\n",
    "plt.show()\n",
    "\n",
    "print('Mean Squared Error :',mean_squared_error(y_test, custom_pred_y))"
   ],
   "metadata": {
    "collapsed": false,
    "pycharm": {
     "name": "#%%\n",
     "is_executing": false
    }
   }
  }
 ],
 "metadata": {
  "kernelspec": {
   "name": "pycharm-ba117324",
   "language": "python",
   "display_name": "PyCharm (ML)"
  },
  "language_info": {
   "codemirror_mode": {
    "name": "ipython",
    "version": 2
   },
   "file_extension": ".py",
   "mimetype": "text/x-python",
   "name": "python",
   "nbconvert_exporter": "python",
   "pygments_lexer": "ipython2",
   "version": "2.7.6"
  },
  "pycharm": {
   "stem_cell": {
    "cell_type": "raw",
    "source": [],
    "metadata": {
     "collapsed": false
    }
   }
  }
 },
 "nbformat": 4,
 "nbformat_minor": 0
}